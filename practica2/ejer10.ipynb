{
 "cells": [
  {
   "cell_type": "markdown",
   "metadata": {},
   "source": [
    "Primero abrimos los archivos y los asignamos a su respectiva variable, importante encodearlos como utf8 para su lectura"
   ]
  },
  {
   "cell_type": "code",
   "execution_count": 1,
   "metadata": {},
   "outputs": [],
   "source": [
    "archNombres = open(\"nombres.txt\", \"r\", encoding=\"utf-8\")\n",
    "archEval1 = open(\"eval1.txt\", \"r\", encoding=\"utf-8\")\n",
    "archEval2 = open(\"eval2.txt\", \"r\", encoding=\"utf-8\")"
   ]
  },
  {
   "cell_type": "markdown",
   "metadata": {},
   "source": [
    "Luego los leemos y estructuramos a nuestra coneniencia, en mi caso, lei y asigne en sus variables listas y a las evaluaciones les quite las comas para transformarlos en numeros mas facilmente"
   ]
  },
  {
   "cell_type": "code",
   "execution_count": 2,
   "metadata": {},
   "outputs": [],
   "source": [
    "nombres = archNombres.read().split()\n",
    "eval1 = archEval1.read().split(\",\")\n",
    "eval2 = archEval2.read().split(\",\")"
   ]
  },
  {
   "cell_type": "markdown",
   "metadata": {},
   "source": [
    "Inicializo mis variables a transformar principales"
   ]
  },
  {
   "cell_type": "code",
   "execution_count": 3,
   "metadata": {},
   "outputs": [],
   "source": [
    "estudiantes = []\n",
    "notaTotal = 0"
   ]
  },
  {
   "cell_type": "markdown",
   "metadata": {},
   "source": [
    "Itero sobre cada nombre y notas, estoy utilizando la funcion zip que nos permite empaquetar en tuplas los elementos para iterar sobre todos a la vez. Como existen diferentes alumnos con el mismo nombre y diferente nota (a mi parecer son diferentes personas), no creo conveniente sobreescribirlos, entonces cree un objeto estudiante (diccionario) de facil acceso para cada uno donde se encuentra su nombre y su nota(notar que las notas son transformadas en numero para su suma satisfactoria)\n",
    "y los agrego a la lista asi no son reemplazadas.\n",
    "Tambien aprovechando que estoy iterando le sumo a notaTotal la nota del estudiante para mas tarde sacar el promedio"
   ]
  },
  {
   "cell_type": "code",
   "execution_count": 4,
   "metadata": {},
   "outputs": [],
   "source": [
    "for nombre, nota1, nota2 in zip(nombres, eval1, eval2):\n",
    "    estudiante = {\"nombre\": nombre, \"nota\": int(nota1) + int(nota2)}\n",
    "    estudiantes.append(estudiante)\n",
    "    notaTotal += estudiante[\"nota\"]"
   ]
  },
  {
   "cell_type": "markdown",
   "metadata": {},
   "source": [
    "sacamos el promedio y lo redondeamos asi queda mas bonito"
   ]
  },
  {
   "cell_type": "code",
   "execution_count": 5,
   "metadata": {},
   "outputs": [
    {
     "name": "stdout",
     "output_type": "stream",
     "text": [
      "96.19\n"
     ]
    }
   ],
   "source": [
    "promedio = notaTotal / len(estudiantes)\n",
    "print(round(promedio, 2))"
   ]
  },
  {
   "cell_type": "markdown",
   "metadata": {},
   "source": [
    "finalmente cerramos los archivos ya que no seran mas utilizados\n"
   ]
  },
  {
   "cell_type": "code",
   "execution_count": 6,
   "metadata": {},
   "outputs": [],
   "source": [
    "archNombres.close()\n",
    "archEval1.close()\n",
    "archEval2.close()"
   ]
  },
  {
   "cell_type": "markdown",
   "metadata": {},
   "source": [
    "(opcional) imprimir los estudiantes"
   ]
  },
  {
   "cell_type": "code",
   "execution_count": null,
   "metadata": {},
   "outputs": [],
   "source": [
    "for estudiante in estudiantes:\n",
    "    print(estudiante)"
   ]
  }
 ],
 "metadata": {
  "interpreter": {
   "hash": "4080576ebbe4c9fa2501e9f6a1f70bdac26d2ecbd061cf0520744a523f01ba9f"
  },
  "kernelspec": {
   "display_name": "Python 3.10.1 64-bit",
   "language": "python",
   "name": "python3"
  },
  "language_info": {
   "codemirror_mode": {
    "name": "ipython",
    "version": 3
   },
   "file_extension": ".py",
   "mimetype": "text/x-python",
   "name": "python",
   "nbconvert_exporter": "python",
   "pygments_lexer": "ipython3",
   "version": "3.10.1"
  },
  "orig_nbformat": 4
 },
 "nbformat": 4,
 "nbformat_minor": 2
}
