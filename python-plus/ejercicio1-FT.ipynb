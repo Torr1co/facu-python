{
 "cells": [
  {
   "cell_type": "markdown",
   "id": "b015a19f",
   "metadata": {},
   "source": [
    "# Actividad 1 por Python plus\n"
   ]
  },
  {
   "cell_type": "markdown",
   "id": "b0d0ad1d",
   "metadata": {},
   "source": [
    "## Parte I: resolvé el siguiente desafío:"
   ]
  },
  {
   "cell_type": "markdown",
   "id": "666e8f9b",
   "metadata": {},
   "source": [
    "EJERCICIO 4: dado el archivo denominado [BBB_nuevo.csv](https://archivos.linti.unlp.edu.ar/index.php/s/q9b3rCrlhOS1yWU) que contiene los accesos al recurso BigBlueButton que usamos para las clases virtuales de la materia, se desea generar una función que retorne el texto \"día\" o \"noche\" en función del horario en que se vieron más las grabaciones (Evento: \"Grabación vista\"). Considerar que es de día entre las 7am y las 7pm. Y, en caso contrario se considera noche.\n"
   ]
  },
  {
   "cell_type": "code",
   "execution_count": 47,
   "id": "5021bb7c",
   "metadata": {},
   "outputs": [
    {
     "name": "stdout",
     "output_type": "stream",
     "text": [
      "dia\n"
     ]
    }
   ],
   "source": [
    "import csv\n",
    "import os\n",
    "\n",
    "def DiaONoche():\n",
    "    archivo = open('BBB_nuevo.csv', 'r', encoding='utf-8')\n",
    "    myCsv = csv.reader(archivo, delimiter=',')\n",
    "    contadorDia = 0\n",
    "    contadorNoche = 0\n",
    "    encabezado = next(myCsv)\n",
    "    \n",
    "    for linea in myCsv:\n",
    "        nombreDeEvento = linea[2]\n",
    "        if nombreDeEvento == 'Grabación vista':\n",
    "            horaCompleta = linea[0].split(' ')[1]\n",
    "            hora = int(horaCompleta.split(':')[0])\n",
    "            if 7 <= hora < 19:\n",
    "                contadorDia+=1\n",
    "            else:\n",
    "                contadorNoche+=1\n",
    "                \n",
    "    archivo.close()\n",
    "    \n",
    "    if contadorDia > contadorNoche:\n",
    "        return 'dia'\n",
    "    else:\n",
    "        return 'noche'\n",
    "    \n",
    "print(DiaONoche())\n",
    "\n",
    "\n"
   ]
  }
 ],
 "metadata": {
  "kernelspec": {
   "display_name": "Python 3 (ipykernel)",
   "language": "python",
   "name": "python3"
  },
  "language_info": {
   "codemirror_mode": {
    "name": "ipython",
    "version": 3
   },
   "file_extension": ".py",
   "mimetype": "text/x-python",
   "name": "python",
   "nbconvert_exporter": "python",
   "pygments_lexer": "ipython3",
   "version": "3.10.1"
  }
 },
 "nbformat": 4,
 "nbformat_minor": 5
}
